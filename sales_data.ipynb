import pandas as pd
import numpy as np
from datetime import datetime, timedelta
import logging 
from clickhouse_driver import Client
import random

def generate_sales_data(num_records):
    np.random.seed(0)  
    logging.info(f"num_records: {num_records}")
    dates = [datetime.now() - timedelta(days=i) for i in range(num_records)]
    product_ids = np.random.randint(1000, 2000, num_records)
    quantities = np.random.randint(1, 10, num_records)
    unit_price = np.random.uniform(10, 500, num_records)
    customer_ids = np.random.randint(10000, 20000, num_records)


    data = {
        'Date': dates,
        'ProductID': product_ids,
        'Quantity': quantities,
        'UnitPrice': unit_price,
        'CustomerID': customer_ids
        
    }

    df = pd.DataFrame(data)
    return df


def clean_data(df):

    df = df[df['UnitPrice'] > 0]

    return df


def transform_data(df):
    df['TotalSales'] = df['Quantity'] * df['UnitPrice']

    return df


def calculate_kpis(df):
    total_sales = df['TotalSales'].sum()
    average_sales_per_item = df['TotalSales'].mean()

    sales_growth = df['TotalSales'].pct_change().mean() * 100

    kpis = {
        'Total Sales': total_sales,
        'Average Sales per Item': average_sales_per_item,
        'Sales Growth': sales_growth
    }
    return kpis


def write_data_to_clickhouse(df):
    try:
        
        s = {"use_numpy": True}
        client = Client(host="db.stg.bdb.ai", port=9000, user="pipeuser", password="pipeline123", database='stg_ds_pipeline', settings=s)
        table='sales_data'

        output = client.insert_dataframe(f"INSERT INTO {table} VALUES", df)
        logging.info("====================Data inserted successfully=======================")
        return df
        
    except Exception as e:
        print(f"An error occurred: {e}")

def main_1(payload_data):
    num_records=payload_data['num_records']
    sales_data = generate_sales_data(num_records)
    cleaned_data = clean_data(sales_data)
    transformed_data = transform_data(cleaned_data)
    Written_df=write_data_to_clickhouse(transformed_data)
    kpis = calculate_kpis(transformed_data)
    logging.info(f"Successfull:{kpis}")
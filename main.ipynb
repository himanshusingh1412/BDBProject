def main():
    sales_data = generate_sales_data()
    cleaned_data = clean_data(sales_data)
    transformed_data = transform_data(cleaned_data)
    kpis = calculate_kpis(transformed_data)

    print("KPIs:", kpis)
    return transformed_data, kpis
